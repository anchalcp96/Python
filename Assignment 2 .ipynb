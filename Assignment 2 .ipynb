{
 "cells": [
  {
   "cell_type": "raw",
   "id": "60a8f05b-e48b-4a2c-909d-0a8b016e433b",
   "metadata": {},
   "source": [
    "## 1. Write a program to accept percentage from the user and display the grade according to the following criteria: \n",
    "Marks \n",
    "Grade \n",
    ">90 \n",
    "A \n",
    ">80 and <=90 \n",
    "B \n",
    ">=60 and <=80 \n",
    "C \n",
    "below 60 \n",
    "D \n"
   ]
  },
  {
   "cell_type": "code",
   "execution_count": 1,
   "id": "c37cb0b7-fa0d-47bd-b896-ecca7a164a8d",
   "metadata": {},
   "outputs": [
    {
     "name": "stdin",
     "output_type": "stream",
     "text": [
      "Enter the percentage 4\n"
     ]
    },
    {
     "name": "stdout",
     "output_type": "stream",
     "text": [
      "D Grade\n"
     ]
    }
   ],
   "source": [
    "Percentage = int(input(\"Enter the percentage\"))\n",
    "if Percentage>90:\n",
    "    print('A Grade')\n",
    "elif Percentage>80 and Percentage<= 90:\n",
    "    print('B Grade')\n",
    "elif Percentage >= 60 and Percentage <= 80:\n",
    "    print('C Grade')\n",
    "else:\n",
    "    print('D Grade')   "
   ]
  },
  {
   "cell_type": "code",
   "execution_count": null,
   "id": "8defbf76-9285-417b-8a8c-856bf482e3d3",
   "metadata": {},
   "outputs": [],
   "source": [
    "    "
   ]
  },
  {
   "cell_type": "code",
   "execution_count": null,
   "id": "47673688-60aa-4964-9ace-b41b93171624",
   "metadata": {},
   "outputs": [],
   "source": [
    "## 2. Write a program to accept the cost price of a bike and display the road tax to be paid "
   ]
  },
  {
   "cell_type": "code",
   "execution_count": 2,
   "id": "5076fb65-e6d2-4a08-8d75-7a5fa8423d48",
   "metadata": {},
   "outputs": [
    {
     "name": "stdin",
     "output_type": "stream",
     "text": [
      "Enter the price 75000\n"
     ]
    },
    {
     "name": "stdout",
     "output_type": "stream",
     "text": [
      "tax is3750.0\n"
     ]
    }
   ],
   "source": [
    "vehicle_price = int(input('Enter the price'))\n",
    "if vehicle_price>100000:\n",
    "    print(f'tax is{vehicle_price*0.15}')\n",
    "elif vehicle_price>500000 and vehicle_price<=100000:\n",
    "    print(f'tax is{vehicle_price*0.10}')\n",
    "else:\n",
    "    print(f'tax is{vehicle_price*0.05}')"
   ]
  },
  {
   "cell_type": "code",
   "execution_count": null,
   "id": "4f65a716-8bef-4659-9062-53d35161081a",
   "metadata": {},
   "outputs": [],
   "source": [
    "## 3. Accept the name of city from user and display the monuments of that  city"
   ]
  },
  {
   "cell_type": "code",
   "execution_count": 3,
   "id": "b9250077-8c63-43cc-b67b-8a55bdfa27be",
   "metadata": {},
   "outputs": [
    {
     "name": "stdin",
     "output_type": "stream",
     "text": [
      "Name of the city Delhi\n"
     ]
    },
    {
     "name": "stdout",
     "output_type": "stream",
     "text": [
      "Red Fort is in Delhi\n"
     ]
    }
   ],
   "source": [
    "city = input(\"Name of the city\")\n",
    "if city == \"Delhi\":\n",
    "    print(\"Red Fort is in Delhi\")\n",
    "elif city == \"Agra\":\n",
    "    \n",
    "    print(\"Taj Mahal is in Agra\")\n",
    "else:\n",
    "    print(\"Hawa Mahal is in Jaipur\")"
   ]
  },
  {
   "cell_type": "code",
   "execution_count": null,
   "id": "531df094-3b8c-4dc5-a45b-b7c0bbe49c4e",
   "metadata": {},
   "outputs": [],
   "source": []
  },
  {
   "cell_type": "code",
   "execution_count": 4,
   "id": "53f4f229-1751-442a-9742-34f32ecfa241",
   "metadata": {},
   "outputs": [
    {
     "name": "stdin",
     "output_type": "stream",
     "text": [
      "Number is 15\n"
     ]
    },
    {
     "name": "stdout",
     "output_type": "stream",
     "text": [
      "Number is devisble by 3\n"
     ]
    }
   ],
   "source": [
    "Number = int(input(\"Number is\"))\n",
    "if Number%3 == 0:\n",
    "    print(\"Number is devisble by 3\")\n",
    "else:\n",
    "    print(\"Number is not devisble by 3\")"
   ]
  },
  {
   "cell_type": "code",
   "execution_count": null,
   "id": "c63606ac-e50c-4d56-aac3-e8cf09b9eaef",
   "metadata": {},
   "outputs": [],
   "source": [
    "## Why and When to Use while Loop in Python give a detailed description with example \n"
   ]
  },
  {
   "cell_type": "markdown",
   "id": "ec9b1d02-7e89-4627-aea8-06f861d8d649",
   "metadata": {},
   "source": [
    "Python while Loop\n",
    "Python while loop is used to run a block code until a certain condition is met.\n",
    "\n",
    "The syntax of while loop is:\n",
    "\n",
    "while condition:\n",
    "    # body of while loop\n",
    "Here,\n",
    "\n",
    "A while loop evaluates the condition\n",
    "If the condition evaluates to True, the code inside the while loop is executed.\n",
    "condition is evaluated again.\n",
    "This process continues until the condition is False.\n",
    "When condition evaluates to False, the loop stops."
   ]
  },
  {
   "cell_type": "code",
   "execution_count": 5,
   "id": "a30d4ab5-631d-432e-9056-6ee5abb4d47f",
   "metadata": {},
   "outputs": [
    {
     "name": "stdout",
     "output_type": "stream",
     "text": [
      "1\n",
      "2\n",
      "3\n",
      "4\n",
      "5\n",
      "6\n",
      "7\n",
      "8\n",
      "9\n",
      "10\n",
      "11\n",
      "12\n",
      "13\n",
      "14\n",
      "15\n"
     ]
    }
   ],
   "source": [
    "i=1\n",
    "n=15\n",
    "while n>=i:\n",
    "    print(i)\n",
    "    i=i+1\n",
    "    \n"
   ]
  },
  {
   "cell_type": "code",
   "execution_count": null,
   "id": "c9f81881-97ba-4190-8147-d49fb74b20a4",
   "metadata": {},
   "outputs": [],
   "source": [
    "## Use nested while loop to print 3 different pattern. \n"
   ]
  },
  {
   "cell_type": "code",
   "execution_count": 6,
   "id": "e2ed7467-909e-4784-afa5-f5340e552c2b",
   "metadata": {},
   "outputs": [
    {
     "name": "stdout",
     "output_type": "stream",
     "text": [
      "1 \n",
      "1 2 \n",
      "1 2 3 \n",
      "1 2 3 4 \n",
      "1 2 3 4 5 \n"
     ]
    }
   ],
   "source": [
    "rows = 5\n",
    "for i in range(1, rows + 1):\n",
    "    for j in range(1, i + 1):\n",
    "        print(j, end=' ')\n",
    "    print('')"
   ]
  },
  {
   "cell_type": "code",
   "execution_count": 1,
   "id": "f62d405a-f178-4f14-a2ab-3f6e4aaf465a",
   "metadata": {},
   "outputs": [
    {
     "name": "stdout",
     "output_type": "stream",
     "text": [
      "5 5 5 5 5 \n",
      "4 4 4 4 \n",
      "3 3 3 \n",
      "2 2 \n",
      "1 \n"
     ]
    }
   ],
   "source": [
    "rows = 5\n",
    "for i in range(rows, 0, -1):\n",
    "    num = i\n",
    "    for j in range(0, i):\n",
    "        print(num, end=' ')\n",
    "    print(\"\\r\")"
   ]
  },
  {
   "cell_type": "code",
   "execution_count": 2,
   "id": "eb493e5e-0487-49c3-9110-686dc697c73a",
   "metadata": {},
   "outputs": [
    {
     "name": "stdout",
     "output_type": "stream",
     "text": [
      "0 1 2 3 4 5 \n",
      "0 1 2 3 4 \n",
      "0 1 2 3 \n",
      "0 1 2 \n",
      "0 1 \n"
     ]
    }
   ],
   "source": [
    "rows = 5\n",
    "for i in range(rows, 0, -1):\n",
    "    for j in range(0, i + 1):\n",
    "        print(j, end=' ')\n",
    "    print(\"\\r\")"
   ]
  },
  {
   "cell_type": "code",
   "execution_count": null,
   "id": "8e485471-f21b-4583-b8a9-b4ef2abd9927",
   "metadata": {},
   "outputs": [],
   "source": [
    "## Reverse a while loop to display numbers from 10 to 1. "
   ]
  },
  {
   "cell_type": "code",
   "execution_count": 9,
   "id": "e40dd4fb-7b05-460f-ab62-ced875658fa6",
   "metadata": {},
   "outputs": [
    {
     "name": "stdout",
     "output_type": "stream",
     "text": [
      "10\n",
      "9\n",
      "8\n",
      "7\n",
      "6\n",
      "5\n",
      "4\n",
      "3\n",
      "2\n",
      "1\n"
     ]
    }
   ],
   "source": [
    "i=10\n",
    "while i>0:\n",
    "    print(i)\n",
    "    i=i-1\n"
   ]
  },
  {
   "cell_type": "code",
   "execution_count": null,
   "id": "3705593f-06eb-49d0-bfb8-56c97324ec2e",
   "metadata": {},
   "outputs": [],
   "source": [
    "\n",
    "##Check how many times a given number can be divided by 3 before it is less than or equal to 10. \n"
   ]
  },
  {
   "cell_type": "code",
   "execution_count": null,
   "id": "f86ac9b9-022a-4d7d-bb9b-990068f45b0b",
   "metadata": {},
   "outputs": [],
   "source": [
    "Number = int(input(\"Enter the Number\"))\n",
    "if Number%3<3:\n",
    "    print(\"1\")\n",
    "else:\n",
    "    print("
   ]
  }
 ],
 "metadata": {
  "kernelspec": {
   "display_name": "Python 3 (ipykernel)",
   "language": "python",
   "name": "python3"
  },
  "language_info": {
   "codemirror_mode": {
    "name": "ipython",
    "version": 3
   },
   "file_extension": ".py",
   "mimetype": "text/x-python",
   "name": "python",
   "nbconvert_exporter": "python",
   "pygments_lexer": "ipython3",
   "version": "3.10.8"
  }
 },
 "nbformat": 4,
 "nbformat_minor": 5
}
