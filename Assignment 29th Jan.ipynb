{
 "cells": [
  {
   "cell_type": "markdown",
   "id": "e4eeca1e-f020-4ecd-976e-183fbf228740",
   "metadata": {},
   "source": [
    "## Qus 1. Who developed Python Programming Language? \n",
    "### Ans - Guido van Rossum began working on Python in the late 1980s as a successor to the ABC programming language and first released it in 1991 as Python 0.9.0."
   ]
  },
  {
   "cell_type": "markdown",
   "id": "6730738c-0a0c-4168-bf56-388fd2a09840",
   "metadata": {
    "tags": []
   },
   "source": [
    "## Qus 2. Which type of Programming does Python support? \n",
    "### Ans - Python is a multi-paradigm programming language. Object-oriented programming and structured programming are fully supported, and many of their features support functional programming and aspect-oriented programming (including metaprogramming and metaobjects)."
   ]
  },
  {
   "cell_type": "markdown",
   "id": "cfc7d735-afe6-4d3e-8a46-3b45bb8aeccd",
   "metadata": {},
   "source": [
    "## Qus 3. Is Python case sensitive when dealing with identifiers?\n",
    "### Ans -Yes, Python is a case-sensitive language, i.e., it treats uppercase and lowercase characters differently. This applies to identifiers too"
   ]
  },
  {
   "cell_type": "markdown",
   "id": "98dccbc6-a706-47a5-964f-28c822b907ce",
   "metadata": {},
   "source": [
    "## Qus 4. What is the correct extension of the Python file? \n",
    "### Ans - .py"
   ]
  },
  {
   "cell_type": "markdown",
   "id": "076543a1-8a8d-46e9-836b-6d701d18ef85",
   "metadata": {},
   "source": [
    "## Qus 5. . Is Python code compiled or interpreted?\n",
    "### Ans-Python is both compiled as well as an interpreted language"
   ]
  },
  {
   "cell_type": "markdown",
   "id": "bab6572a-1be8-48dc-b6de-24a15c9a4eba",
   "metadata": {},
   "source": [
    "## Qus 6. Name a few blocks of code used to define in Python language? \n",
    "### Ans - A block is a piece of Python program text that is executed as a unit. The following are blocks: a module, a function body, and a class definition."
   ]
  },
  {
   "cell_type": "markdown",
   "id": "4a1d8410-8512-43ec-bd0b-8cf9be8afb23",
   "metadata": {},
   "source": [
    "## Qus 7. State a character used to give single-line comments in Python? \n",
    "### Ans - Hash '#' "
   ]
  },
  {
   "cell_type": "markdown",
   "id": "1afa6cb9-c549-4f85-a3b5-653c66addfb9",
   "metadata": {},
   "source": [
    "## Qus 8. Mention functions which can help us to find the version of python that we are currently working on?\n",
    "### Ans - sys.version\n"
   ]
  },
  {
   "cell_type": "code",
   "execution_count": null,
   "id": "81602e09-f748-406a-90f3-a9145d86f7bb",
   "metadata": {},
   "outputs": [],
   "source": [
    "import sys\n",
    "print(\"Python Version\" - sys.version)"
   ]
  },
  {
   "cell_type": "code",
   "execution_count": null,
   "id": "9dd740d1-14bb-4871-af8c-53b6274b2115",
   "metadata": {},
   "outputs": [],
   "source": []
  },
  {
   "cell_type": "markdown",
   "id": "7f5bc4d0-6f98-4738-a6c3-1926e50bcb4e",
   "metadata": {},
   "source": [
    "## Qus9. Python supports the creation of anonymous functions at runtime, using a construct called___\n",
    "### Ans - Lambda"
   ]
  },
  {
   "cell_type": "markdown",
   "id": "e943920f-c6b9-479c-95f4-8c7522b93c94",
   "metadata": {},
   "source": [
    "## Qus 10. What does pip stand for python? \n",
    "### Ans - pip stands for \"preferred installer program\". "
   ]
  },
  {
   "cell_type": "markdown",
   "id": "f1ec419b-42f4-45f9-b998-b22b2dcc7c14",
   "metadata": {},
   "source": [
    "## Qus 11. Mention a few built-in functions in python? \n",
    "### Ans - Python Built-in Functions -\n",
    "#### print( ) function\n",
    "#### type( ) function\n",
    "#### input( ) function\n",
    "#### abs( ) function\n",
    "#### pow( ) function\n",
    "#### dir( ) function\n",
    "#### sorted( ) function\n",
    "#### max( ) function\n",
    "#### round( ) function\n",
    "#### divmod( ) function\n",
    "#### id( ) function\n",
    "#### ord( ) function\n"
   ]
  },
  {
   "cell_type": "markdown",
   "id": "9de0eb10-8d56-47c6-8af3-a064d5782b3b",
   "metadata": {},
   "source": [
    "## Qus 12 - What is the maximum possible length of an identifier in Python? \n",
    "### Ans - An identifier can have a maximum length of 79 characters in Python. "
   ]
  },
  {
   "cell_type": "markdown",
   "id": "c2cbe436-a8ac-45d6-aaac-7e221ad4f332",
   "metadata": {},
   "source": [
    "## Qus 13 - What are the benefits of using Python? \n",
    "### Ans - Advantages of Python: simple, clean, and fast to write\n",
    "### Due to easy syntax, it gained popularity not only among software engineers but also with data scientists and academic researchers. Its simplicity is best for overcoming complex problems and make it the most popular choice for machine learning and data processing."
   ]
  },
  {
   "cell_type": "markdown",
   "id": "fbf0012a-6dae-4b68-981e-93fec61f966f",
   "metadata": {},
   "source": [
    "## Qus 14 - How is memory managed in Python? \n",
    "### Ans - Python uses a portion of the memory for internal use and non-object memory. Another part of the memory is used for Python object such as int, dict, list, etc. CPython contains the object allocator that allocates memory within the object area. The object allocator gets a call every time the new object needs space."
   ]
  },
  {
   "cell_type": "markdown",
   "id": "9f44cffd-79e8-43f8-850a-456ad763a06d",
   "metadata": {},
   "source": [
    "## Qus 15 - How to install Python on Windows and set path variables? \n",
    "### Ans -The complete path of python.exe can be added by:\n",
    "\n",
    "#### Right-clicking This PC and going to Properties.\n",
    "#### Clicking on the Advanced system settings in the menu on the left.\n",
    "#### Clicking on the Environment Variables button o​n the bottom right.\n",
    "#### In the System variables section, selecting the Path variable and clicking on Edit. The next screen will show all the directories that are currently a part of the PATH variable.\n",
    "#### Clicking on New and entering Python’s install directory.\n",
    "#### Python can now be used directly from the command prompt without having to write its location. Try executing the command python --version; it will output the version of Python installed on your system."
   ]
  },
  {
   "cell_type": "markdown",
   "id": "a1993604-1f5d-4dd1-a898-ab7157ecadff",
   "metadata": {},
   "source": [
    "## Qus 16 - is indentation required in python? \n",
    "### Ans -Indentation refers to the spaces at the beginning of a code line. Where in other programming languages the indentation in code is for readability only, the indentation in Python is very important. Python uses indentation to indicate a block of code\n"
   ]
  },
  {
   "cell_type": "code",
   "execution_count": null,
   "id": "1618b5e7-47a5-45c6-ab9b-f2883590c90c",
   "metadata": {},
   "outputs": [],
   "source": []
  }
 ],
 "metadata": {
  "kernelspec": {
   "display_name": "Python 3 (ipykernel)",
   "language": "python",
   "name": "python3"
  },
  "language_info": {
   "codemirror_mode": {
    "name": "ipython",
    "version": 3
   },
   "file_extension": ".py",
   "mimetype": "text/x-python",
   "name": "python",
   "nbconvert_exporter": "python",
   "pygments_lexer": "ipython3",
   "version": "3.10.8"
  }
 },
 "nbformat": 4,
 "nbformat_minor": 5
}
