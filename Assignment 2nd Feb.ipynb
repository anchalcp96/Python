{
 "cells": [
  {
   "cell_type": "markdown",
   "id": "6ea63b89-9a71-481a-9bc2-9cbe97c53278",
   "metadata": {},
   "source": [
    "## Q1. What are the characteristics of the tuples? Is tuple immutable? "
   ]
  },
  {
   "cell_type": "markdown",
   "id": "8dba2f5a-325a-486b-8985-9028eab11085",
   "metadata": {},
   "source": [
    "##### Ans - Tuple items are ordered, unchangeable, and allow duplicate values. Tuple items are indexed, the first item has index [0] , the second item has index [1] etc.\n",
    "##### Tuples are immutable. Hence they are primarily used to store data that doesn't change frequently."
   ]
  },
  {
   "cell_type": "markdown",
   "id": "e7eda6f9-4ebf-4386-9938-bcd99aa3bfcd",
   "metadata": {},
   "source": [
    "## Q2. What are the two tuple methods in python? Give an example of each method. Give a reason why  tuples have only two in-built methods as compared to Lists. \n"
   ]
  },
  {
   "cell_type": "code",
   "execution_count": 11,
   "id": "40cbadca-703f-414d-8b3d-3b8e6ef2e756",
   "metadata": {},
   "outputs": [],
   "source": [
    "#### Ans. - Index and Count only these two tuple method are available in python.\n",
    "## For example - \n",
    "t = (1,2,3,4,5,1,1,1,3,4,5)"
   ]
  },
  {
   "cell_type": "code",
   "execution_count": 12,
   "id": "dfc1f2f6-0102-4c1d-a6af-0e8bca12e17c",
   "metadata": {},
   "outputs": [
    {
     "data": {
      "text/plain": [
       "4"
      ]
     },
     "execution_count": 12,
     "metadata": {},
     "output_type": "execute_result"
    }
   ],
   "source": [
    "t.count(1)"
   ]
  },
  {
   "cell_type": "code",
   "execution_count": 18,
   "id": "32a49e05-330d-42fa-aee1-266e24e3e374",
   "metadata": {},
   "outputs": [
    {
     "data": {
      "text/plain": [
       "1"
      ]
     },
     "execution_count": 18,
     "metadata": {},
     "output_type": "execute_result"
    }
   ],
   "source": [
    "t.index(2)"
   ]
  },
  {
   "cell_type": "code",
   "execution_count": 13,
   "id": "b8df80d7-fbdd-4a31-b7e4-36674b77ff27",
   "metadata": {},
   "outputs": [],
   "source": [
    "name=('Anchal','Ayush','Shanu','Swati')"
   ]
  },
  {
   "cell_type": "code",
   "execution_count": 14,
   "id": "cc3ec2b3-e9b6-44be-847e-dd1268123ee9",
   "metadata": {},
   "outputs": [
    {
     "data": {
      "text/plain": [
       "1"
      ]
     },
     "execution_count": 14,
     "metadata": {},
     "output_type": "execute_result"
    }
   ],
   "source": [
    "name.count('Anchal')"
   ]
  },
  {
   "cell_type": "code",
   "execution_count": 15,
   "id": "faa7e8b0-d896-4508-ab9d-9011e9490fbb",
   "metadata": {},
   "outputs": [
    {
     "data": {
      "text/plain": [
       "1"
      ]
     },
     "execution_count": 15,
     "metadata": {},
     "output_type": "execute_result"
    }
   ],
   "source": [
    "name.index('Ayush')"
   ]
  },
  {
   "cell_type": "code",
   "execution_count": 16,
   "id": "0899650c-08d4-4c02-a43f-64b6bad6da3f",
   "metadata": {},
   "outputs": [
    {
     "data": {
      "text/plain": [
       "2"
      ]
     },
     "execution_count": 16,
     "metadata": {},
     "output_type": "execute_result"
    }
   ],
   "source": [
    "name.index('Shanu')"
   ]
  },
  {
   "cell_type": "code",
   "execution_count": 3,
   "id": "058dec57-200f-4ea5-bad4-f0e7bcff045d",
   "metadata": {},
   "outputs": [],
   "source": [
    "## Q3.  Which collection datatypes in python do not allow duplicate items? Write a code using a set to remove  duplicates from the given list. \n",
    "List = [1, 1, 1, 2, 1, 3, 1, 4, 2, 1, 2, 2, 2, 3, 2, 4, 3, 1, 3, 2, 3, 3, 3, 4, 4, 1, 4, 2, 4, 3, 4, 4] \n"
   ]
  },
  {
   "cell_type": "code",
   "execution_count": 1,
   "id": "9e6572cd-68f2-4829-8e27-582732f83c48",
   "metadata": {},
   "outputs": [],
   "source": [
    "## Set datatypes in python do not allow duplicates items\n"
   ]
  },
  {
   "cell_type": "code",
   "execution_count": 7,
   "id": "9f2a4ac8-64fb-41bf-ad30-cc410ceabbc1",
   "metadata": {},
   "outputs": [
    {
     "data": {
      "text/plain": [
       "[1,\n",
       " 1,\n",
       " 1,\n",
       " 2,\n",
       " 1,\n",
       " 3,\n",
       " 1,\n",
       " 4,\n",
       " 2,\n",
       " 1,\n",
       " 2,\n",
       " 2,\n",
       " 2,\n",
       " 3,\n",
       " 2,\n",
       " 4,\n",
       " 3,\n",
       " 1,\n",
       " 3,\n",
       " 2,\n",
       " 3,\n",
       " 3,\n",
       " 3,\n",
       " 4,\n",
       " 4,\n",
       " 1,\n",
       " 4,\n",
       " 2,\n",
       " 4,\n",
       " 3,\n",
       " 4,\n",
       " 4]"
      ]
     },
     "execution_count": 7,
     "metadata": {},
     "output_type": "execute_result"
    }
   ],
   "source": [
    "List"
   ]
  },
  {
   "cell_type": "code",
   "execution_count": 12,
   "id": "b5faec1d-0bda-4e6d-909a-de8b824bc6e6",
   "metadata": {},
   "outputs": [],
   "source": [
    "Set=set(List)\n"
   ]
  },
  {
   "cell_type": "code",
   "execution_count": 13,
   "id": "b7136423-43c3-49b0-b6c7-1dd9a4828225",
   "metadata": {},
   "outputs": [
    {
     "data": {
      "text/plain": [
       "{1, 2, 3, 4}"
      ]
     },
     "execution_count": 13,
     "metadata": {},
     "output_type": "execute_result"
    }
   ],
   "source": [
    "Set"
   ]
  },
  {
   "cell_type": "markdown",
   "id": "8b1a9b1f-05ee-4c07-b3a2-fd1ba7d7ff44",
   "metadata": {},
   "source": [
    "#### Q4 - Explain the difference between the union() and update() methods for a set. Give an example of  each method. "
   ]
  },
  {
   "cell_type": "markdown",
   "id": "81bc57cd-8b0d-4092-be47-f41b305a2e8d",
   "metadata": {},
   "source": [
    "#### update() adds all missing elements to the set on which it is called whereas set. union() creates a new set."
   ]
  },
  {
   "cell_type": "code",
   "execution_count": 22,
   "id": "470f576f-3d03-4de7-aaf2-96342cd76fcc",
   "metadata": {},
   "outputs": [],
   "source": [
    "s1={5,6,7,8}"
   ]
  },
  {
   "cell_type": "code",
   "execution_count": 23,
   "id": "8d5f95f0-8bfb-44c7-94b8-be68399050dd",
   "metadata": {},
   "outputs": [
    {
     "data": {
      "text/plain": [
       "{1, 2, 3, 4, 5, 6, 7, 8}"
      ]
     },
     "execution_count": 23,
     "metadata": {},
     "output_type": "execute_result"
    }
   ],
   "source": [
    "Set.union(s1)"
   ]
  },
  {
   "cell_type": "code",
   "execution_count": 29,
   "id": "3edd8e0a-1ccd-409d-8743-ef8c1f7e1ea0",
   "metadata": {},
   "outputs": [
    {
     "data": {
      "text/plain": [
       "{1, 2, 3, 4, 5, 6, 7, 8}"
      ]
     },
     "execution_count": 29,
     "metadata": {},
     "output_type": "execute_result"
    }
   ],
   "source": [
    "Set"
   ]
  },
  {
   "cell_type": "code",
   "execution_count": 30,
   "id": "c8660063-03b9-4dd1-a15f-2ec015052c53",
   "metadata": {},
   "outputs": [
    {
     "data": {
      "text/plain": [
       "{5, 6, 7, 8}"
      ]
     },
     "execution_count": 30,
     "metadata": {},
     "output_type": "execute_result"
    }
   ],
   "source": [
    "s1"
   ]
  },
  {
   "cell_type": "code",
   "execution_count": 31,
   "id": "d2db77c2-9751-40b5-8c49-762ffc8ecb44",
   "metadata": {},
   "outputs": [],
   "source": [
    "s1.update(Set)"
   ]
  },
  {
   "cell_type": "code",
   "execution_count": 32,
   "id": "ebe973d7-6800-4609-97ad-c98c587f9451",
   "metadata": {},
   "outputs": [
    {
     "data": {
      "text/plain": [
       "{1, 2, 3, 4, 5, 6, 7, 8}"
      ]
     },
     "execution_count": 32,
     "metadata": {},
     "output_type": "execute_result"
    }
   ],
   "source": [
    "s1"
   ]
  },
  {
   "cell_type": "markdown",
   "id": "7d3c476e-9945-4a52-8a4c-0c02617928aa",
   "metadata": {},
   "source": [
    "### Q5. What is a dictionary? Give an example. Also, state whether a dictionary is ordered or unordered. \n"
   ]
  },
  {
   "cell_type": "markdown",
   "id": "c1109259-fc53-4d11-b5cf-f5106a61ad93",
   "metadata": {},
   "source": [
    "### The dictionary is an unordered collection that contains key:value pairs separated by commas inside curly brackets. Dictionaries are optimized to retrieve values when the key is known. The following declares a dictionary object."
   ]
  },
  {
   "cell_type": "code",
   "execution_count": 36,
   "id": "7efdb32d-4a11-47ab-920d-00b63412e9a4",
   "metadata": {},
   "outputs": [],
   "source": [
    "d={'Name':'Anchal','Email':'Ak27','Mobile' : '123456789'}"
   ]
  },
  {
   "cell_type": "code",
   "execution_count": 37,
   "id": "ac43f768-1725-4bba-9863-7bfdab82efbc",
   "metadata": {},
   "outputs": [
    {
     "name": "stdout",
     "output_type": "stream",
     "text": [
      "<class 'dict'>\n"
     ]
    }
   ],
   "source": [
    "print(type(d))"
   ]
  },
  {
   "cell_type": "markdown",
   "id": "3d2a94c0-eff9-4101-a068-f3af4fb42b3a",
   "metadata": {},
   "source": [
    "### Q6. Can we create a nested dictionary? If so, please give an example by creating a simple one-level  nested dictionary. \n"
   ]
  },
  {
   "cell_type": "code",
   "execution_count": 45,
   "id": "0072398c-a058-4a04-b504-038b4e065422",
   "metadata": {},
   "outputs": [],
   "source": [
    "## Yes, we can creat a nested dictionary.Nesting Dictionary means putting a dictionary inside another dictionary."
   ]
  },
  {
   "cell_type": "code",
   "execution_count": 48,
   "id": "d4c78fbe-52b1-448f-b36e-5f35e5b8fff9",
   "metadata": {},
   "outputs": [
    {
     "name": "stdout",
     "output_type": "stream",
     "text": [
      "\n",
      "Nested dictionary -\n",
      "{'Dict1': {'name': 'Ali', 'age': '19'}, 'Dict2': {'name': 'Bob', 'age': '25'}}\n"
     ]
    }
   ],
   "source": [
    "\n",
    "Dict = { 'Dict1': {'name': 'Ali', 'age': '19'},\n",
    "         'Dict2': {'name': 'Bob', 'age': '25'}}\n",
    "print(\"\\nNested dictionary -\")\n",
    "print(Dict)"
   ]
  },
  {
   "cell_type": "markdown",
   "id": "ca564287-3429-4970-aeb0-ac23cdbb9d70",
   "metadata": {},
   "source": [
    "## Q7. Using setdefault() method, create key named topics in the given dictionary and also add the value of  the key as this list ['Python', 'Machine Learning’, 'Deep Learning'] \n",
    "dict1 = {'language' : 'Python', 'course': 'Data Science Masters'} \n"
   ]
  },
  {
   "cell_type": "code",
   "execution_count": 49,
   "id": "a86288e5-be4b-4295-b204-e3e9ff9271dc",
   "metadata": {},
   "outputs": [],
   "source": [
    "dict1 = {'language' : 'Python', 'course': 'Data Science Masters'}"
   ]
  },
  {
   "cell_type": "code",
   "execution_count": 50,
   "id": "bef44a37-581f-49ac-96bc-da23ca9f59c7",
   "metadata": {},
   "outputs": [
    {
     "data": {
      "text/plain": [
       "{'language': 'Python', 'course': 'Data Science Masters'}"
      ]
     },
     "execution_count": 50,
     "metadata": {},
     "output_type": "execute_result"
    }
   ],
   "source": [
    "dict1"
   ]
  },
  {
   "cell_type": "code",
   "execution_count": 54,
   "id": "4ee3d7bb-9408-4ce8-adcb-4aec32e7bf64",
   "metadata": {},
   "outputs": [],
   "source": [
    "dict1['Topic'] = ['Python', 'Machine Learning' , 'Deep Learning'] "
   ]
  },
  {
   "cell_type": "code",
   "execution_count": 55,
   "id": "18b13ccc-4f77-44ec-9d83-00013b9152b8",
   "metadata": {},
   "outputs": [
    {
     "data": {
      "text/plain": [
       "{'language': 'Python',\n",
       " 'course': 'Data Science Masters',\n",
       " 'Topic': ['Python', 'Machine Learning', 'Deep Learning']}"
      ]
     },
     "execution_count": 55,
     "metadata": {},
     "output_type": "execute_result"
    }
   ],
   "source": [
    "dict1"
   ]
  },
  {
   "cell_type": "markdown",
   "id": "7889d546-eee6-4d67-922c-1361cbed51d3",
   "metadata": {},
   "source": [
    "## Q8. What are the three view objects in dictionaries? Use the three in-built methods in python to display  these three view objects for the given dictionary. \n",
    "dict1 = {'Sport': 'Cricket' , 'Teams': ['India', 'Australia', 'England', 'South Africa', 'Sri Lanka', 'New Zealand']} \n"
   ]
  },
  {
   "cell_type": "markdown",
   "id": "36238480-0749-4372-a27e-74366787e006",
   "metadata": {},
   "source": [
    "## The main view objects of dictionary in python are keys, values and items."
   ]
  },
  {
   "cell_type": "code",
   "execution_count": 57,
   "id": "6cb7d013-5dee-46f0-b290-481983dbcbd5",
   "metadata": {},
   "outputs": [],
   "source": [
    "dict2 = {'Sport': 'Cricket' , 'Teams': ['India', 'Australia', 'England', 'South Africa', 'Sri Lanka', 'New Zealand']}"
   ]
  },
  {
   "cell_type": "code",
   "execution_count": 58,
   "id": "82e1df71-aec6-48a7-980e-d6ae53136118",
   "metadata": {},
   "outputs": [
    {
     "data": {
      "text/plain": [
       "{'Sport': 'Cricket',\n",
       " 'Teams': ['India',\n",
       "  'Australia',\n",
       "  'England',\n",
       "  'South Africa',\n",
       "  'Sri Lanka',\n",
       "  'New Zealand']}"
      ]
     },
     "execution_count": 58,
     "metadata": {},
     "output_type": "execute_result"
    }
   ],
   "source": [
    "dict2"
   ]
  },
  {
   "cell_type": "code",
   "execution_count": 59,
   "id": "9dd28fd6-4f0e-4f45-93ab-a903e703a626",
   "metadata": {},
   "outputs": [
    {
     "data": {
      "text/plain": [
       "dict_keys(['Sport', 'Teams'])"
      ]
     },
     "execution_count": 59,
     "metadata": {},
     "output_type": "execute_result"
    }
   ],
   "source": [
    "dict2.keys()"
   ]
  },
  {
   "cell_type": "code",
   "execution_count": 60,
   "id": "02b9d044-37dd-4ee7-b77c-ca8b16300548",
   "metadata": {},
   "outputs": [
    {
     "data": {
      "text/plain": [
       "dict_values(['Cricket', ['India', 'Australia', 'England', 'South Africa', 'Sri Lanka', 'New Zealand']])"
      ]
     },
     "execution_count": 60,
     "metadata": {},
     "output_type": "execute_result"
    }
   ],
   "source": [
    "dict2.values()"
   ]
  },
  {
   "cell_type": "code",
   "execution_count": 61,
   "id": "2762fd9f-9463-41d3-a407-230769e1e589",
   "metadata": {},
   "outputs": [
    {
     "data": {
      "text/plain": [
       "dict_items([('Sport', 'Cricket'), ('Teams', ['India', 'Australia', 'England', 'South Africa', 'Sri Lanka', 'New Zealand'])])"
      ]
     },
     "execution_count": 61,
     "metadata": {},
     "output_type": "execute_result"
    }
   ],
   "source": [
    "dict2.items()"
   ]
  },
  {
   "cell_type": "code",
   "execution_count": 62,
   "id": "3528952a-cb87-4083-b4b5-ad6cac4137b5",
   "metadata": {},
   "outputs": [],
   "source": [
    "dict2['Tournament']=('WTC', 'T20 WC', '50-50 WC')"
   ]
  },
  {
   "cell_type": "code",
   "execution_count": 63,
   "id": "5758ec7d-52e1-4024-be6e-027d40d24b5a",
   "metadata": {},
   "outputs": [
    {
     "data": {
      "text/plain": [
       "{'Sport': 'Cricket',\n",
       " 'Teams': ['India',\n",
       "  'Australia',\n",
       "  'England',\n",
       "  'South Africa',\n",
       "  'Sri Lanka',\n",
       "  'New Zealand'],\n",
       " 'Tournament': ('WTC', 'T20 WC', '50-50 WC')}"
      ]
     },
     "execution_count": 63,
     "metadata": {},
     "output_type": "execute_result"
    }
   ],
   "source": [
    "dict2"
   ]
  },
  {
   "cell_type": "code",
   "execution_count": 64,
   "id": "d2c0e737-2b80-44e7-96f1-feab41c70d7b",
   "metadata": {},
   "outputs": [
    {
     "ename": "NameError",
     "evalue": "name 'Tournament' is not defined",
     "output_type": "error",
     "traceback": [
      "\u001b[0;31m---------------------------------------------------------------------------\u001b[0m",
      "\u001b[0;31mNameError\u001b[0m                                 Traceback (most recent call last)",
      "Cell \u001b[0;32mIn[64], line 1\u001b[0m\n\u001b[0;32m----> 1\u001b[0m \u001b[38;5;28mdict\u001b[39m\u001b[38;5;241m.\u001b[39mpop(\u001b[43mTournament\u001b[49m)\n",
      "\u001b[0;31mNameError\u001b[0m: name 'Tournament' is not defined"
     ]
    }
   ],
   "source": [
    "dict.pop(Tournament)"
   ]
  },
  {
   "cell_type": "code",
   "execution_count": null,
   "id": "3c012e5e-3304-4886-b8ed-e17a13cc4f0b",
   "metadata": {},
   "outputs": [],
   "source": []
  }
 ],
 "metadata": {
  "kernelspec": {
   "display_name": "Python 3 (ipykernel)",
   "language": "python",
   "name": "python3"
  },
  "language_info": {
   "codemirror_mode": {
    "name": "ipython",
    "version": 3
   },
   "file_extension": ".py",
   "mimetype": "text/x-python",
   "name": "python",
   "nbconvert_exporter": "python",
   "pygments_lexer": "ipython3",
   "version": "3.10.8"
  }
 },
 "nbformat": 4,
 "nbformat_minor": 5
}
